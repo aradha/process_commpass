{
 "cells": [
  {
   "cell_type": "code",
   "execution_count": 1,
   "metadata": {
    "collapsed": false
   },
   "outputs": [],
   "source": [
    "import numpy as np\n",
    "import src.loadDataset as loadDataset\n",
    "import src.build_tensors as build_tensors\n",
    "import src.select_feature_fields as select_feature_fields\n",
    "import src.build_features_from_tensors as build_features_from_tensors"
   ]
  },
  {
   "cell_type": "code",
   "execution_count": 2,
   "metadata": {
    "collapsed": true
   },
   "outputs": [],
   "source": [
    "data_dir = \"/PATH/TO/CLINICAL/DATA/FLATFILES/\"\n",
    "desc_dir = \"/PATH/TO/CLINICAL/DATA/DESCRIPTION_FILES/\"\n",
    "tensor_dir = \"../test_commpass_ia9_tensors/\"\n",
    "param_dir = \"parameters/\""
   ]
  },
  {
   "cell_type": "code",
   "execution_count": 3,
   "metadata": {
    "collapsed": true
   },
   "outputs": [],
   "source": [
    "run_test_data = True"
   ]
  },
  {
   "cell_type": "code",
   "execution_count": 4,
   "metadata": {
    "collapsed": false
   },
   "outputs": [
    {
     "name": "stdout",
     "output_type": "stream",
     "text": [
      "50 people\n",
      "Min date: -180, max date: 1389\n",
      "per_patient_visit in progress\n",
      "stand_alone_admissions in progress\n",
      "stand_alone_ae in progress\n",
      "stand_alone_emergency_dept in progress\n",
      "stand_alone_treatment_regimen in progress\n",
      "Feature key created: 328 features\n",
      "Clinical tensor built\n",
      "per_patient_baseline in progress\n",
      "per_patient_visit_baseline in progress\n",
      "stand_alone_famhx_baseline in progress\n",
      "stand_alone_medhx_baseline in progress\n",
      "Initial feature key created: 85 features\n",
      "Initial tensor built\n",
      "Treatment feature key created: 11 features\n",
      "Treatment tensor built\n"
     ]
    }
   ],
   "source": [
    "if run_test_data:\n",
    "    ##What files are we searching through to build features?\n",
    "    file_names = [\"stand_alone_ae\", \"per_patient_visit\", \"stand_alone_treatment_regimen\", 'stand_alone_emergency_dept', 'stand_alone_admissions', 'stand_alone_medhx', 'stand_alone_famhx', 'per_patient']\n",
    "    ##What strings invalidate a field as a feature?  Mostly correspond to meta-data or dates\n",
    "    invalid_strings = [\"date\", \"day\", \"week\", \"time\", \"enr\", \"interval\", \"dose\", \"unit\", \"frequency\", \"ongoing\", \"route\", \"_was\", \"visit\", \"censor\", \"d_pt\", \"ic_\", \"bmt\", \"flag\", \"vj\", \"mmtx_therapy\", \"mmtx_type\", \"dictionary\"]\n",
    "    ##What date are we using as the cutoff for no longer baseline?\n",
    "    baseline_cutoff = 0\n",
    "    ##What fraction of the feature's observations must be before treatment to treat it as a baseline feature?\n",
    "    temporal_frac = 0.5\n",
    "    select_feature_fields.main(file_names, invalid_strings, baseline_cutoff, temporal_frac, data_dir, param_dir, desc_dir)\n",
    "    ##Create tensor dir if it doesn't already exist\n",
    "    import os\n",
    "    if not os.path.exists(tensor_dir):\n",
    "        os.makedirs(tensor_dir)\n",
    "    ##What's the min last visit number to include a person in the cohort?\n",
    "    visit_cutoff = 1\n",
    "    ##What's the minimum date, i.e. where is time zero for the tensors?\n",
    "    min_date = -180\n",
    "    ##Should we use the minimum date or set our own min date?\n",
    "    calc_min_date = False\n",
    "    ##The minimum number of time to see a text value to count it as a feature\n",
    "    min_occurrences = 50\n",
    "    ##Set debug to True to run with only 50 people and min_occurrences set to 5\n",
    "    debug = True\n",
    "    build_tensors.process_commpass(visit_cutoff, min_date, calc_min_date, min_occurrences, data_dir, tensor_dir, param_dir, debug=debug)"
   ]
  },
  {
   "cell_type": "code",
   "execution_count": 5,
   "metadata": {
    "collapsed": false
   },
   "outputs": [],
   "source": [
    "dataset = loadDataset.main(\"clinical\", tensor_dir)\n",
    "clinical_tensor = dataset['tensor']\n",
    "clinical_obs_tensor = dataset['obs_tensor']\n",
    "clinical_feature_names = dataset['feature_names']\n",
    "clinical_feature_types = dataset['feature_types']\n",
    "people = dataset['people']\n",
    "\n",
    "dataset = loadDataset.main(\"initial\", tensor_dir)\n",
    "initial_tensor = dataset['tensor']\n",
    "initial_feature_names = dataset['feature_names']\n",
    "initial_feature_types = dataset['feature_types']\n",
    "assert np.array_equal(dataset['people'], people)\n",
    "\n",
    "dataset = loadDataset.main(\"treatment\", tensor_dir)\n",
    "treatment_tensor = dataset['tensor']\n",
    "treatment_obs_tensor = dataset['obs_tensor']\n",
    "treatment_feature_names = dataset['feature_names']\n",
    "treatment_feature_types = dataset['feature_types']\n",
    "assert np.array_equal(dataset['people'], people)"
   ]
  },
  {
   "cell_type": "code",
   "execution_count": 6,
   "metadata": {
    "collapsed": false
   },
   "outputs": [],
   "source": [
    "import src.util as util\n",
    "import os\n",
    "\n",
    "files = []\n",
    "for fname in os.listdir(param_dir):\n",
    "    if \".csv\" in fname:\n",
    "        files.append(fname)\n",
    "        \n",
    "dates = {}\n",
    "features = {}\n",
    "num_features = {}\n",
    "text_features = {}\n",
    "tensor_dates = {}\n",
    "tensor_features = {}\n",
    "for person in people:\n",
    "    dates[person] = []\n",
    "    features[person] = []\n",
    "    num_features[person] = []\n",
    "    text_features[person] = []\n",
    "    tensor_dates[person] = []\n",
    "    tensor_features[person] = []\n",
    "    \n",
    "for fname in files:\n",
    "    if \"_fields\" in fname:\n",
    "        date_dict = util.get_date_fields(param_dir, fname.replace(\"_fields.csv\", \"\"))\n",
    "    else:\n",
    "        print fname\n",
    "        continue\n",
    "    \n",
    "    date_fields = []\n",
    "    valid_fields = []\n",
    "    for key in date_dict:\n",
    "        date_fields.append(date_dict[key])\n",
    "        valid_fields.append(key)\n",
    "    date_fields = list(set(date_fields))\n",
    "    \n",
    "    data, fields = util.read_clinical_data(data_dir+fname.replace(\"_fields.csv\", \"\").replace(\"_baseline\", \"\").upper()+\".csv\", param_dir)\n",
    "    date_indices = []\n",
    "    valid_indices = []\n",
    "    for i, field in enumerate(fields):\n",
    "        if field in date_fields:\n",
    "            date_indices.append(i)\n",
    "        if field in valid_fields:\n",
    "            valid_indices.append(i)\n",
    "            \n",
    "    for person in people:\n",
    "        if person in data:\n",
    "            for line in data[person]:\n",
    "                for i in range(len(line)):\n",
    "                    if i in date_indices:\n",
    "                        if line[i] != \"\":\n",
    "                            dates[person].append(line[i])\n",
    "                    if i in valid_indices:\n",
    "                        if line[i] != \"\":\n",
    "                            features[person].append(line[i])                \n",
    "        \n",
    "for person in people:\n",
    "    dates[person] = list(set(dates[person]))\n",
    "    for i in range(len(dates[person])):\n",
    "        dates[person][i] = int(dates[person][i])\n",
    "    features[person] = list(set(features[person]))\n",
    "    num_features[person] = []\n",
    "    for i in range(len(features[person])):\n",
    "        try:\n",
    "            num = float(features[person][i])\n",
    "            num_features[person].append(num)\n",
    "        except:\n",
    "            text_features[person].append(features[person][i])"
   ]
  },
  {
   "cell_type": "code",
   "execution_count": 7,
   "metadata": {
    "collapsed": false
   },
   "outputs": [],
   "source": [
    "##There should be no dates in the tensors that aren't in the raw data, or are 0, or multiples of 90.\n",
    "##These get imputed for missing dates sometimes, so they're allowed.  Note, this ignores treatments since it abides\n",
    "##by different rules\n",
    "min_date = -180\n",
    "for i in range(clinical_obs_tensor.shape[0]):\n",
    "    nz_dates = list(set(np.nonzero(clinical_obs_tensor[i, :, :])[0]))\n",
    "    tensor_dates[people[i]] += nz_dates\n",
    "for i in range(initial_tensor.shape[0]):\n",
    "    nz_dates = list(set(np.nonzero(initial_tensor[i, :, :])[0]))\n",
    "    tensor_dates[people[i]] += nz_dates\n",
    "\n",
    "for person in people:\n",
    "    tensor_dates[person] = list(set(tensor_dates[person]))\n",
    "\n",
    "for person in people:\n",
    "    for date in tensor_dates[person]:\n",
    "        if date + min_date not in dates[person]:\n",
    "            assert date % 90 == 0, date"
   ]
  },
  {
   "cell_type": "code",
   "execution_count": 8,
   "metadata": {
    "collapsed": false
   },
   "outputs": [
    {
     "name": "stdout",
     "output_type": "stream",
     "text": [
      "mmrf_1252\n",
      "463\n",
      "\n",
      "mmrf_1232\n",
      "972\n",
      "\n",
      "mmrf_1641\n",
      "529\n",
      "\n",
      "mmrf_1055\n",
      "580\n",
      "\n",
      "mmrf_1208\n",
      "675\n",
      "\n",
      "mmrf_1117\n",
      "340\n",
      "\n",
      "mmrf_1912\n",
      "389\n",
      "\n",
      "mmrf_1059\n",
      "-2\n",
      "\n"
     ]
    }
   ],
   "source": [
    "##Dates in the raw data but not in the tensor should be rare (although not unheard of).\n",
    "##Some features get thrown \n",
    "\n",
    "for person in people:\n",
    "    to_print = []\n",
    "    for date in dates[person]:\n",
    "         if date - min_date not in tensor_dates[person]:\n",
    "            if date - min_date >= 0:\n",
    "                to_print.append(date)\n",
    "\n",
    "    if len(to_print):\n",
    "        print person\n",
    "        for date in to_print:\n",
    "            print date\n",
    "        print \"\""
   ]
  },
  {
   "cell_type": "code",
   "execution_count": 9,
   "metadata": {
    "collapsed": false
   },
   "outputs": [],
   "source": [
    "tensor_features = {}\n",
    "for person in people:\n",
    "    tensor_features[person] = []\n",
    "    \n",
    "for i in range(len(people)):\n",
    "    nz_features = list(np.unique(clinical_tensor[i, :, :]))\n",
    "    tensor_features[people[i]] += nz_features\n",
    "for i in range(len(people)):\n",
    "    nz_features = list(np.unique(initial_tensor[i, :, :]))  \n",
    "    tensor_features[people[i]] += nz_features\n",
    "   \n",
    "for person in people:\n",
    "    tensor_features[person] = list(set(tensor_features[person]))\n",
    "    \n",
    "for person in people:\n",
    "    #print sorted(tensor_features[person])\n",
    "    #print sorted(num_features[person])\n",
    "    for feature in tensor_features[person]:\n",
    "        if feature != 0. and feature != 1.:\n",
    "            assert feature in num_features[person], feature"
   ]
  },
  {
   "cell_type": "code",
   "execution_count": 10,
   "metadata": {
    "collapsed": false
   },
   "outputs": [
    {
     "name": "stdout",
     "output_type": "stream",
     "text": [
      "Most common clinical features\n",
      "Shape of the clinical  matrix: 50 people X 1570 days X 328 features\n",
      "d_im_cd38des-cd38 description(coded)-numerical, recorded for 50 people, mean: 3.14705882353, average count / person recorded: 1.36\n",
      "d_lab_cbc_hemoglobin-hemogobin (mmol/l-numerical, recorded for 50 people, mean: 7.34709198813, average count / person recorded: 6.74\n",
      "d_lab_chem_glucose-glucose (mmol/l)-numerical, recorded for 50 people, mean: 6.02153963415, average count / person recorded: 6.56\n",
      "mmsurg_none-no multiple myeloma surgery-numerical, recorded for 50 people, mean: 1.0, average count / person recorded: 6.54\n",
      "d_lab_chem_totprot-total protein (g/dl)-numerical, recorded for 50 people, mean: 7.29866873065, average count / person recorded: 6.46\n",
      "bone_reasonforproc-reason for procedure-baseline, recorded for 50 people, mean: 1.0, average count / person recorded: 1.02\n",
      "d_lab_cbc_abs_neut-absolute neutrophil count x10^9/l-numerical, recorded for 50 people, mean: 3.44847560976, average count / person recorded: 6.56\n",
      "d_im_igh-igh site(coded)-numerical, recorded for 50 people, mean: 5.36764705882, average count / person recorded: 1.36\n",
      "d_im_lightc-light chain by flow(coded)-numerical, recorded for 50 people, mean: 2.58823529412, average count / person recorded: 1.36\n",
      "d_lab_chem_creatinine-serum creatinine (umol/l)-numerical, recorded for 50 people, mean: 103.481693694, average count / person recorded: 6.66\n",
      "\n",
      " Least common clinical features\n",
      "Shape of the clinical  matrix: 50 people X 1570 days X 328 features\n",
      "d_tri_cf_abnormalitypr4-t(6;14) abnormality present-numerical, recorded for 0 people, mean: 0.0, average count / person recorded: 0\n",
      "d_tri_cf_abnormalitypr9-t(14;20) abnormality present-numerical, recorded for 0 people, mean: 0.0, average count / person recorded: 0\n",
      "d_tri_cf_abnormalitypr7-t(12;14) abnormality present-numerical, recorded for 0 people, mean: 0.0, average count / person recorded: 0\n",
      "se_didpatientcom-did patient complete the study?-numerical, recorded for 0 people, mean: 0.0, average count / person recorded: 0\n",
      "d_tri_cf_abnormalitypr15-other abnormality present (second)-numerical, recorded for 1 people, mean: 1.0, average count / person recorded: 1.0\n",
      "d_tri_cf_abnormailityp-p53 locus;chromosome 17 abnormality present-numerical, recorded for 1 people, mean: 1.0, average count / person recorded: 1.0\n",
      "d_tri_cf_abnormalitypr5-t(8;14) abnormality present-numerical, recorded for 1 people, mean: 1.0, average count / person recorded: 1.0\n",
      "d_tri_cf_abnormalitypr2-del 17 abnormality present-numerical, recorded for 2 people, mean: 1.0, average count / person recorded: 1.0\n",
      "d_tri_cf_abnormalitypr14-other abnormality present (first)-numerical, recorded for 3 people, mean: 1.0, average count / person recorded: 1.0\n",
      "d_tri_cf_abnormalitypr-del 13 abnormality present-numerical, recorded for 4 people, mean: 1.0, average count / person recorded: 1.25\n"
     ]
    }
   ],
   "source": [
    "print \"Most common clinical features\"\n",
    "util.most_common_features(tensor_dir, file_type=\"clinical\", obs=False, sort=\"count\", cutoff=10, top=True)\n",
    "print \"\\n Least common clinical features\"\n",
    "util.most_common_features(tensor_dir, file_type=\"clinical\", obs=False, sort=\"count\", cutoff=10, top=False)"
   ]
  },
  {
   "cell_type": "code",
   "execution_count": 11,
   "metadata": {
    "collapsed": false
   },
   "outputs": [
    {
     "name": "stdout",
     "output_type": "stream",
     "text": [
      "Most common initial features\n",
      "Shape of the initial  matrix: 50 people X 181 days X 85 features\n",
      "demog_weight-palumbo: weight-numerical, recorded for 50 people, mean: 82.6781818182, average count / person recorded: 1.0\n",
      "study_id-study name-commpass, recorded for 50 people, mean: 1.0, average count / person recorded: 1.0\n",
      "demog_patientage-patient age-numerical, recorded for 50 people, mean: 65.56, average count / person recorded: 1.0\n",
      "demog_height-palumbo: height-numerical, recorded for 50 people, mean: 169.8232, average count / person recorded: 1.0\n",
      "famhx-family history-numerical, recorded for 50 people, mean: 1.82, average count / person recorded: 1.0\n",
      "demog_ethnicity-ethnicity-not hispanic or latino, recorded for 46 people, mean: 1.0, average count / person recorded: 1.0\n",
      "d_im_reason-derived reason for sample-numerical, recorded for 43 people, mean: 1.0, average count / person recorded: 1.0\n",
      "atleast-at least one medical history-numerical, recorded for 42 people, mean: 1.0, average count / person recorded: 1.0\n",
      "d_im_flowcyt_pct_pc_in_bm_low-flow cytometer %pc in bone marrow-low-numerical, recorded for 42 people, mean: 8.80380952381, average count / person recorded: 1.0\n",
      "d_im_flowcyt_pct_pc_in_bm_high-flow cytometer %pc in bone marrow-high-numerical, recorded for 42 people, mean: 10.1514285714, average count / person recorded: 1.0\n",
      "\n",
      " Least common initial features\n",
      "Shape of the initial  matrix: 50 people X 181 days X 85 features\n",
      "d_im_cd81_detected-cd81 detected-numerical, recorded for 0 people, mean: 0.0, average count / person recorded: 0\n",
      "d_im_braf_status-braf status-numerical, recorded for 1 people, mean: 1.0, average count / person recorded: 1.0\n",
      "d_im_cd19_detected-cd19 detected-numerical, recorded for 1 people, mean: 1.0, average count / person recorded: 1.0\n",
      "d_tri_cf_otherspecifyo-other abnormality (first) (# of interphase cells examined)-numerical, recorded for 5 people, mean: 120.0, average count / person recorded: 1.0\n",
      "d_tri_cf_otherspecifya-other abnormality(first) (abnormal cells%)-numerical, recorded for 5 people, mean: 71.4, average count / person recorded: 1.0\n",
      "d_im_cd52_detected-cd52 detected-numerical, recorded for 5 people, mean: 1.0, average count / person recorded: 1.0\n",
      "fammgc_specifictypeo-specific type of cancer-lung, recorded for 5 people, mean: 1.0, average count / person recorded: 1.0\n",
      "fammgc_specifictypeo-specific type of cancer-breast, recorded for 5 people, mean: 1.0, average count / person recorded: 1.0\n",
      "d_tri_cf_icellsdel13un-del 13 (unknown # of interphase cells examined)-numerical, recorded for 5 people, mean: 1.0, average count / person recorded: 1.0\n",
      "d_im_morphology_percent_pc_in_pb-morphology %pc in peripheral blood-numerical, recorded for 5 people, mean: 2.242, average count / person recorded: 1.0\n"
     ]
    }
   ],
   "source": [
    "print \"Most common initial features\"\n",
    "util.most_common_features(tensor_dir, file_type=\"initial\", obs=False, sort=\"count\", cutoff=10, top=True)\n",
    "print \"\\n Least common initial features\"\n",
    "util.most_common_features(tensor_dir, file_type=\"initial\", obs=False, sort=\"count\", cutoff=10, top=False)"
   ]
  },
  {
   "cell_type": "code",
   "execution_count": 12,
   "metadata": {
    "collapsed": false
   },
   "outputs": [
    {
     "name": "stdout",
     "output_type": "stream",
     "text": [
      "Most common treatment features\n",
      "Shape of the treatment  matrix: 50 people X 1570 days X 11 features\n",
      "dexamethasone, recorded for 33 people, mean: 1.0, average count / person recorded: 82.21\n",
      "bortezomib, recorded for 32 people, mean: 1.0, average count / person recorded: 84.5\n",
      "lenalidomide, recorded for 27 people, mean: 1.0, average count / person recorded: 184.48\n",
      "cyclophosphamide, recorded for 10 people, mean: 1.0, average count / person recorded: 42.2\n",
      "melphalan, recorded for 6 people, mean: 1.0, average count / person recorded: 133.17\n",
      "carfilzomib, recorded for 5 people, mean: 1.0, average count / person recorded: 102.2\n",
      "prednisone, recorded for 3 people, mean: 1.0, average count / person recorded: 265.33\n",
      "other, recorded for 2 people, mean: 1.0, average count / person recorded: 186.5\n",
      "pomalidomide, recorded for 1 people, mean: 1.0, average count / person recorded: 28.0\n",
      "thalidomide, recorded for 1 people, mean: 1.0, average count / person recorded: 230.0\n"
     ]
    }
   ],
   "source": [
    "print \"Most common treatment features\"\n",
    "util.most_common_features(tensor_dir, file_type=\"treatment\", obs=False, sort=\"count\", top=True)"
   ]
  },
  {
   "cell_type": "code",
   "execution_count": null,
   "metadata": {
    "collapsed": true
   },
   "outputs": [],
   "source": []
  }
 ],
 "metadata": {
  "kernelspec": {
   "display_name": "Python 2",
   "language": "python",
   "name": "python2"
  },
  "language_info": {
   "codemirror_mode": {
    "name": "ipython",
    "version": 2
   },
   "file_extension": ".py",
   "mimetype": "text/x-python",
   "name": "python",
   "nbconvert_exporter": "python",
   "pygments_lexer": "ipython2",
   "version": "2.7.13"
  }
 },
 "nbformat": 4,
 "nbformat_minor": 2
}
